{
 "cells": [
  {
   "metadata": {
    "ExecuteTime": {
     "end_time": "2025-02-28T18:09:02.260191Z",
     "start_time": "2025-02-28T18:09:02.249691Z"
    }
   },
   "cell_type": "code",
   "source": [
    "from set_up import set_up_env\n",
    "set_up_env()"
   ],
   "id": "7f253076a66a9324",
   "outputs": [],
   "execution_count": 1
  },
  {
   "cell_type": "code",
   "id": "dbb6facd70eca181",
   "metadata": {
    "ExecuteTime": {
     "end_time": "2025-02-28T18:09:03.777887Z",
     "start_time": "2025-02-28T18:09:02.669317Z"
    }
   },
   "source": [
    "import os\n",
    "from datetime import date\n",
    "from typing import List, Union\n",
    "\n",
    "import trafilatura\n",
    "import httpx\n",
    "\n",
    "from pydantic import BaseModel\n",
    "from pydantic_ai import Agent, RunContext\n",
    "from pydantic_ai.settings import ModelSettings"
   ],
   "outputs": [],
   "execution_count": 2
  },
  {
   "metadata": {
    "ExecuteTime": {
     "end_time": "2025-02-28T18:09:03.830489Z",
     "start_time": "2025-02-28T18:09:03.783342Z"
    }
   },
   "cell_type": "code",
   "source": [
    "class Answer(BaseModel):\n",
    "    text: str\n",
    "\n",
    "class NoAnswer(BaseModel):\n",
    "    pass\n",
    "\n",
    "class SearchResult(BaseModel):\n",
    "    title: str\n",
    "    url: str\n",
    "    snippet: str"
   ],
   "id": "b9432e75487562a0",
   "outputs": [],
   "execution_count": 3
  },
  {
   "metadata": {
    "ExecuteTime": {
     "end_time": "2025-02-28T18:09:05.405206Z",
     "start_time": "2025-02-28T18:09:04.913673Z"
    }
   },
   "cell_type": "code",
   "source": [
    "qa_agent = Agent(\n",
    "    model='openai:gpt-4o-mini',\n",
    "    model_settings=ModelSettings(max_tokens=1024, temperature=0),\n",
    "    result_type=Union[Answer, NoAnswer],\n",
    "    system_prompt=(\n",
    "        \"Answer the following questions about the given text. Only answer the questions if the provided text is relevant.\"\n",
    "    ),\n",
    ")"
   ],
   "id": "6c398246420740e5",
   "outputs": [],
   "execution_count": 4
  },
  {
   "metadata": {
    "ExecuteTime": {
     "end_time": "2025-02-28T18:09:08.536139Z",
     "start_time": "2025-02-28T18:09:08.532720Z"
    }
   },
   "cell_type": "code",
   "source": [
    "today = date.today().strftime(\"%B %d, %Y\")\n",
    "system_prompt = f\"\"\"\n",
    "You are a helpful research agent. Provide concise and precise answers to the questions provided.\n",
    "You can use the 'search_google' tool to find information on the internet, and you can use the\n",
    "'ask_website' tool to extract information from a specific website.\n",
    "If you don't know the answer to a specific question, say \"I don't know\" instead of making things up.\"\n",
    "For your information, today is {today}.\n",
    "\"\"\""
   ],
   "id": "6a75bb16dba0d084",
   "outputs": [],
   "execution_count": 5
  },
  {
   "metadata": {
    "ExecuteTime": {
     "end_time": "2025-02-28T18:09:09.806138Z",
     "start_time": "2025-02-28T18:09:09.802273Z"
    }
   },
   "cell_type": "code",
   "source": [
    "research_agent = Agent(\n",
    "    \"openai:gpt-4o-mini\",\n",
    "    model_settings=ModelSettings(max_tokens=1024, temperature=0),\n",
    "    result_type=str,\n",
    "    system_prompt=system_prompt,\n",
    ")"
   ],
   "id": "d82cae2e2d15bcb6",
   "outputs": [],
   "execution_count": 6
  },
  {
   "metadata": {
    "ExecuteTime": {
     "end_time": "2025-02-28T18:09:11.085581Z",
     "start_time": "2025-02-28T18:09:11.077143Z"
    }
   },
   "cell_type": "code",
   "source": [
    "@research_agent.tool\n",
    "async def ask_website(ctx: RunContext, url: str, question: str) -> NoAnswer | Answer:\n",
    "    \"\"\"\n",
    "    Ask a question about a website to get the answer.\n",
    "\n",
    "    Args:\n",
    "        url: The URL of the website to ask the question.\n",
    "        question: The question to ask.\n",
    "\n",
    "    Returns:\n",
    "        The answer from the website.\n",
    "    \"\"\"\n",
    "    try:\n",
    "        resp = httpx.get(url, follow_redirects=True)\n",
    "        if resp.status_code != 200:\n",
    "            # raise httpx.HTTPError(f\"Failed to get a successful response from {url}, status code: {resp.status_code}\")\n",
    "            return NoAnswer()\n",
    "    except Exception:\n",
    "        return NoAnswer()\n",
    "\n",
    "    html_content = trafilatura.extract(resp.text)\n",
    "    return await qa_agent.run(\"Question: \" + question + \"\\n\\nContext:\\n\" + html_content, usage=ctx.usage)"
   ],
   "id": "6f11611c5a7111ce",
   "outputs": [],
   "execution_count": 7
  },
  {
   "metadata": {
    "collapsed": true,
    "ExecuteTime": {
     "end_time": "2025-02-28T18:09:12.507521Z",
     "start_time": "2025-02-28T18:09:12.502088Z"
    }
   },
   "cell_type": "code",
   "source": [
    "@research_agent.tool\n",
    "def search_google(ctx: RunContext, query: str) -> List[SearchResult]:\n",
    "    \"\"\"\n",
    "    Search the web for the given query and return the top results.\n",
    "\n",
    "    Args:\n",
    "        query: The query to search for.\n",
    "\n",
    "    Returns:\n",
    "        The top search results\n",
    "    \"\"\"\n",
    "    api_key = os.getenv(\"SERPER_API_KEY\")\n",
    "    assert api_key, \"Please set API key for serper\"\n",
    "\n",
    "    search_results = httpx.get(\n",
    "        f\"https://google.serper.dev/search?apiKey={api_key}&q={query}\"\n",
    "    ).json()\n",
    "\n",
    "    results = []\n",
    "    for item in search_results[\"organic\"]:\n",
    "        results.append(\n",
    "            SearchResult(\n",
    "                title=item[\"title\"],\n",
    "                url=item.get(\"link\"),\n",
    "                snippet=item.get(\"snippet\", \"n/a\")\n",
    "            )\n",
    "        )\n",
    "\n",
    "    return results"
   ],
   "id": "initial_id",
   "outputs": [],
   "execution_count": 8
  },
  {
   "metadata": {
    "ExecuteTime": {
     "end_time": "2025-02-28T18:10:13.632295Z",
     "start_time": "2025-02-28T18:10:11.202018Z"
    }
   },
   "cell_type": "code",
   "source": [
    "result = research_agent.run_sync(\"Who won the 2025 Super Bowl?\")\n",
    "print(\"Answer:\", result.data)"
   ],
   "id": "54408feb7a2a8a0a",
   "outputs": [
    {
     "name": "stdout",
     "output_type": "stream",
     "text": [
      "Answer: The Philadelphia Eagles won the 2025 Super Bowl, defeating the Kansas City Chiefs with a score of 40-22. This victory marked the Eagles' second Super Bowl title.\n"
     ]
    }
   ],
   "execution_count": 10
  },
  {
   "metadata": {},
   "cell_type": "code",
   "source": "",
   "id": "20cd054e8c2c70ea",
   "outputs": [],
   "execution_count": null
  }
 ],
 "metadata": {
  "kernelspec": {
   "display_name": "Python 3",
   "language": "python",
   "name": "python3"
  },
  "language_info": {
   "codemirror_mode": {
    "name": "ipython",
    "version": 2
   },
   "file_extension": ".py",
   "mimetype": "text/x-python",
   "name": "python",
   "nbconvert_exporter": "python",
   "pygments_lexer": "ipython2",
   "version": "2.7.6"
  }
 },
 "nbformat": 4,
 "nbformat_minor": 5
}
