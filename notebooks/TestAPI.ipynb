{
 "cells": [
  {
   "metadata": {
    "ExecuteTime": {
     "end_time": "2025-10-18T01:21:27.040303Z",
     "start_time": "2025-10-18T01:21:27.008677Z"
    }
   },
   "cell_type": "code",
   "source": [
    "from src.utils.environment import set_up_env\n",
    "set_up_env()"
   ],
   "id": "56dcff6f3739efc2",
   "outputs": [],
   "execution_count": 1
  },
  {
   "metadata": {
    "ExecuteTime": {
     "end_time": "2025-10-18T01:30:08.267728Z",
     "start_time": "2025-10-18T01:30:08.265090Z"
    }
   },
   "cell_type": "code",
   "source": [
    "from google.genai.types import HarmBlockThreshold, HarmCategory\n",
    "\n",
    "from pydantic_ai import Agent\n",
    "from pydantic_ai.models.google import GoogleModel, GoogleModelSettings"
   ],
   "id": "af964d82f0c4b6c4",
   "outputs": [],
   "execution_count": 5
  },
  {
   "metadata": {
    "ExecuteTime": {
     "end_time": "2025-10-18T01:30:42.178102Z",
     "start_time": "2025-10-18T01:30:42.089901Z"
    }
   },
   "cell_type": "code",
   "source": [
    "settings = GoogleModelSettings(\n",
    "    temperature=0.5,\n",
    "    max_tokens=2048,\n",
    "    google_thinking_config={'thinking_budget': 2048},\n",
    "    google_safety_settings=[\n",
    "        {\n",
    "            'category': HarmCategory.HARM_CATEGORY_DANGEROUS_CONTENT,\n",
    "            'threshold': HarmBlockThreshold.BLOCK_LOW_AND_ABOVE,\n",
    "        }\n",
    "    ]\n",
    ")\n",
    "model = GoogleModel('gemini-2.5-pro')\n",
    "agent = Agent(model, model_settings=settings)"
   ],
   "id": "d34debd48592d597",
   "outputs": [],
   "execution_count": 6
  },
  {
   "metadata": {
    "ExecuteTime": {
     "end_time": "2025-10-18T01:30:56.686800Z",
     "start_time": "2025-10-18T01:30:53.829308Z"
    }
   },
   "cell_type": "code",
   "source": [
    "result = agent.run_sync(\"Who is the governor of Illinois?\")\n",
    "print(result.output)"
   ],
   "id": "3f5b31a3bc391c32",
   "outputs": [
    {
     "name": "stdout",
     "output_type": "stream",
     "text": [
      "The current governor of Illinois is **J.B. Pritzker**. He has been in office since January 2019.\n"
     ]
    }
   ],
   "execution_count": 7
  },
  {
   "metadata": {
    "ExecuteTime": {
     "end_time": "2025-10-17T20:18:20.130838Z",
     "start_time": "2025-10-17T20:18:19.370169Z"
    }
   },
   "cell_type": "code",
   "source": [
    "import anthropic\n",
    "from src.utils.configuration import load_config\n",
    "from IPython.display import Markdown"
   ],
   "id": "39666d08225fbabc",
   "outputs": [],
   "execution_count": 2
  },
  {
   "metadata": {
    "ExecuteTime": {
     "end_time": "2025-10-17T20:20:43.503155Z",
     "start_time": "2025-10-17T20:20:43.496481Z"
    }
   },
   "cell_type": "code",
   "source": "agent_config = load_config(\"trend_card_agent.yaml\")",
   "id": "50ad2181a550931e",
   "outputs": [],
   "execution_count": 8
  },
  {
   "metadata": {
    "ExecuteTime": {
     "end_time": "2025-10-17T20:19:58.391758Z",
     "start_time": "2025-10-17T20:19:58.328685Z"
    }
   },
   "cell_type": "code",
   "source": [
    "client = anthropic.Anthropic(\n",
    "    # defaults to os.environ.get(\"ANTHROPIC_API_KEY\")\n",
    "    # api_key=\"my_api_key\",\n",
    ")"
   ],
   "id": "initial_id",
   "outputs": [],
   "execution_count": 6
  },
  {
   "metadata": {
    "ExecuteTime": {
     "end_time": "2025-10-17T20:27:08.151168Z",
     "start_time": "2025-10-17T20:26:53.527486Z"
    }
   },
   "cell_type": "code",
   "source": [
    "# Using variables to format the prompt template\n",
    "industry_segment = \"Payment processing platforms and other solutions for credit unions\"\n",
    "topic = \"Gen Z in the workforce\"\n",
    "component = \"Social\"\n",
    "formatted_prompt = agent_config[\"generator_prompt\"].format(\n",
    "    industry_segment=industry_segment,\n",
    "    topic=topic,\n",
    "    component=component,\n",
    ")\n",
    "\n",
    "message = client.messages.create(\n",
    "    model=agent_config[\"model\"],\n",
    "    max_tokens=agent_config[\"max_tokens\"],\n",
    "    messages=[\n",
    "        {\"role\": \"user\", \"content\": formatted_prompt},\n",
    "    ]\n",
    ")"
   ],
   "id": "1645cf136839f95f",
   "outputs": [],
   "execution_count": 11
  },
  {
   "metadata": {
    "ExecuteTime": {
     "end_time": "2025-10-17T20:27:10.047716Z",
     "start_time": "2025-10-17T20:27:10.044248Z"
    }
   },
   "cell_type": "code",
   "source": "display(Markdown(message.content[0].text))",
   "id": "92324c49a980a8d1",
   "outputs": [
    {
     "data": {
      "text/plain": [
       "<IPython.core.display.Markdown object>"
      ],
      "text/markdown": "# Trend Card\n\n**Card Identifier:** Gen Z in the Workforce / Social\n\n**Title:** Neuroplasticity-Informed Work Design Demands from Gen Z Talent\n\n**Description:** Gen Z workers are beginning to request work structures that align with neuroscience research on attention restoration, circadian rhythms, and cognitive load management. This cohort, raised with access to mental health discourse and brain science content through platforms like TikTok and YouTube, is applying these concepts to negotiate non-traditional work arrangements that optimize their cognitive performance rather than adhering to industrial-era schedules.\n\n**Implications:** Healthcare organizations will face pressure to redesign clinical rotations, administrative workflows, and on-call schedules around cognitive science principles rather than historical precedent. This shift may conflict with patient care continuity models and existing labor agreements that assume uniform human performance across shift times. Organizations that ignore these requests risk higher turnover in entry-level clinical and administrative roles where Gen Z workers are concentrated.\n\n**Opportunities:** Healthcare systems can pioneer new staffing models that align high-cognitive-demand tasks with individual workers' peak performance windows, potentially reducing medical errors and improving diagnostic accuracy. Organizations could develop proprietary workforce scheduling algorithms that match neuroscience principles with patient flow patterns, creating a competitive advantage in both quality metrics and talent retention. Early adopters may attract top Gen Z clinical talent by marketing these science-based work designs, while also generating publishable research on productivity outcomes that could be monetized through consulting services to other health systems.\n\n**Challenges/Threats:** Implementing individualized cognitive schedules at scale creates operational complexity that current workforce management systems cannot handle, requiring significant IT investment. Union contracts and state labor laws built on standardized shift structures may create legal barriers to flexible cognitive scheduling. The administrative burden of accommodating diverse neuroplasticity-based requests could overwhelm managers and create perceived inequities among staff. Organizations may face claims of discrimination if they cannot consistently apply neuroscience-based accommodations across diverse employee populations with varying levels of scientific literacy."
     },
     "metadata": {},
     "output_type": "display_data",
     "jetTransient": {
      "display_id": null
     }
    }
   ],
   "execution_count": 12
  },
  {
   "metadata": {},
   "cell_type": "code",
   "source": "",
   "id": "9df818a22dba0268",
   "outputs": [],
   "execution_count": null
  }
 ],
 "metadata": {
  "kernelspec": {
   "display_name": "Python 3",
   "language": "python",
   "name": "python3"
  },
  "language_info": {
   "codemirror_mode": {
    "name": "ipython",
    "version": 2
   },
   "file_extension": ".py",
   "mimetype": "text/x-python",
   "name": "python",
   "nbconvert_exporter": "python",
   "pygments_lexer": "ipython2",
   "version": "2.7.6"
  }
 },
 "nbformat": 4,
 "nbformat_minor": 5
}
