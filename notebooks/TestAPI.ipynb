{
 "cells": [
  {
   "metadata": {
    "ExecuteTime": {
     "end_time": "2025-10-18T01:21:27.040303Z",
     "start_time": "2025-10-18T01:21:27.008677Z"
    }
   },
   "cell_type": "code",
   "source": [
    "from src.utils.environment import set_up_env\n",
    "set_up_env()"
   ],
   "id": "56dcff6f3739efc2",
   "outputs": [],
   "execution_count": 1
  },
  {
   "metadata": {
    "ExecuteTime": {
     "end_time": "2025-10-18T01:30:08.267728Z",
     "start_time": "2025-10-18T01:30:08.265090Z"
    }
   },
   "cell_type": "code",
   "source": [
    "from pydantic_ai import Agent\n",
    "from pydantic_ai.models.google import GoogleModel, GoogleModelSettings\n",
    "from google.genai.types import HarmBlockThreshold, HarmCategory"
   ],
   "id": "af964d82f0c4b6c4",
   "outputs": [],
   "execution_count": 5
  },
  {
   "metadata": {},
   "cell_type": "code",
   "source": "",
   "id": "9df818a22dba0268",
   "outputs": [],
   "execution_count": null
  }
 ],
 "metadata": {
  "kernelspec": {
   "display_name": "Python 3",
   "language": "python",
   "name": "python3"
  },
  "language_info": {
   "codemirror_mode": {
    "name": "ipython",
    "version": 2
   },
   "file_extension": ".py",
   "mimetype": "text/x-python",
   "name": "python",
   "nbconvert_exporter": "python",
   "pygments_lexer": "ipython2",
   "version": "2.7.6"
  }
 },
 "nbformat": 4,
 "nbformat_minor": 5
}
