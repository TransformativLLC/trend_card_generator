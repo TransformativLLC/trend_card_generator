{
 "cells": [
  {
   "metadata": {
    "ExecuteTime": {
     "end_time": "2025-10-24T00:14:48.174298Z",
     "start_time": "2025-10-24T00:14:48.115775Z"
    }
   },
   "cell_type": "code",
   "source": [
    "%load_ext autoreload\n",
    "%autoreload 2"
   ],
   "id": "e16f4d6146f3365f",
   "outputs": [],
   "execution_count": 1
  },
  {
   "metadata": {
    "ExecuteTime": {
     "end_time": "2025-10-24T00:14:53.427190Z",
     "start_time": "2025-10-24T00:14:50.018125Z"
    }
   },
   "cell_type": "code",
   "source": [
    "from src.utils.environment import set_up_env\n",
    "set_up_env()\n",
    "\n",
    "from src.agents import TrendCardEditor\n",
    "from src.utils.fileio import get_file_list, read_file, get_directory_safe_model_name"
   ],
   "id": "c9646484391973ab",
   "outputs": [],
   "execution_count": 2
  },
  {
   "metadata": {
    "ExecuteTime": {
     "end_time": "2025-10-24T00:25:05.772752Z",
     "start_time": "2025-10-24T00:25:05.744273Z"
    }
   },
   "cell_type": "code",
   "source": "editor = TrendCardEditor(length_range=\"100-110\")",
   "id": "a6aa71cc0b55259a",
   "outputs": [],
   "execution_count": 15
  },
  {
   "metadata": {
    "ExecuteTime": {
     "end_time": "2025-10-24T00:21:52.930290Z",
     "start_time": "2025-10-24T00:21:52.907105Z"
    }
   },
   "cell_type": "code",
   "source": [
    "file_path = \"../outputs/openai_gpt_4_1\"\n",
    "extension = \".md\"\n",
    "file_list = get_file_list(file_path, extension)"
   ],
   "id": "80746101e883ac50",
   "outputs": [],
   "execution_count": 13
  },
  {
   "metadata": {
    "ExecuteTime": {
     "end_time": "2025-10-24T00:26:49.658723Z",
     "start_time": "2025-10-24T00:25:08.165301Z"
    }
   },
   "cell_type": "code",
   "source": [
    "i = 1\n",
    "safe_model_name = get_directory_safe_model_name(editor.config[\"model\"])\n",
    "for file in file_list:\n",
    "    text = read_file(file)\n",
    "    trend_card = await editor.edit_trend_card(text)\n",
    "    saved_file_name = trend_card.save_to_file(file_path=file_path, file_name_suffix=\"v2\")\n",
    "    print(f\"{i}. {saved_file_name}\")\n",
    "    print(trend_card.get_length(), end=\"\\n\"*2)\n",
    "    i += 1"
   ],
   "id": "4dca4377ef166255",
   "outputs": [
    {
     "name": "stdout",
     "output_type": "stream",
     "text": [
      "1. robotics_technical_v2.md\n",
      "{'card_identifier': 3, 'title': 8, 'description': 28, 'implications': 28, 'opportunities': 29, 'challenges': 24}\n",
      "\n",
      "2. 3d_printing_and_additive_manufacturing_technical_v2.md\n",
      "{'card_identifier': 7, 'title': 7, 'description': 27, 'implications': 27, 'opportunities': 27, 'challenges': 23}\n",
      "\n",
      "3. deep_fakes_legal_v2.md\n",
      "{'card_identifier': 4, 'title': 9, 'description': 35, 'implications': 35, 'opportunities': 23, 'challenges': 14}\n",
      "\n"
     ]
    }
   ],
   "execution_count": 16
  },
  {
   "metadata": {},
   "cell_type": "code",
   "source": "",
   "id": "d5ab26f864ba9cd5",
   "outputs": [],
   "execution_count": null
  }
 ],
 "metadata": {
  "kernelspec": {
   "display_name": "Python 3",
   "language": "python",
   "name": "python3"
  },
  "language_info": {
   "codemirror_mode": {
    "name": "ipython",
    "version": 2
   },
   "file_extension": ".py",
   "mimetype": "text/x-python",
   "name": "python",
   "nbconvert_exporter": "python",
   "pygments_lexer": "ipython2",
   "version": "2.7.6"
  }
 },
 "nbformat": 4,
 "nbformat_minor": 5
}
