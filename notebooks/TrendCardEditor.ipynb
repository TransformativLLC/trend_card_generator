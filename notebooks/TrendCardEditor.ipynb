{
 "cells": [
  {
   "metadata": {
    "ExecuteTime": {
     "end_time": "2025-10-23T20:05:20.456885Z",
     "start_time": "2025-10-23T20:05:20.401201Z"
    }
   },
   "cell_type": "code",
   "source": [
    "%load_ext autoreload\n",
    "%autoreload 2"
   ],
   "id": "e16f4d6146f3365f",
   "outputs": [],
   "execution_count": 1
  },
  {
   "metadata": {
    "ExecuteTime": {
     "end_time": "2025-10-23T20:05:25.928593Z",
     "start_time": "2025-10-23T20:05:22.415011Z"
    }
   },
   "cell_type": "code",
   "source": [
    "from src.utils.environment import set_up_env\n",
    "set_up_env()\n",
    "\n",
    "from src.agents import TrendCardEditor\n",
    "from src.utils.fileio import get_file_list, read_file"
   ],
   "id": "c9646484391973ab",
   "outputs": [],
   "execution_count": 2
  },
  {
   "metadata": {
    "ExecuteTime": {
     "end_time": "2025-10-23T20:05:26.885243Z",
     "start_time": "2025-10-23T20:05:26.735569Z"
    }
   },
   "cell_type": "code",
   "source": "editor = TrendCardEditor()",
   "id": "a6aa71cc0b55259a",
   "outputs": [],
   "execution_count": 3
  },
  {
   "metadata": {
    "ExecuteTime": {
     "end_time": "2025-10-23T20:05:27.992024Z",
     "start_time": "2025-10-23T20:05:27.961780Z"
    }
   },
   "cell_type": "code",
   "source": [
    "file_path = \"/Users/markbills/Library/CloudStorage/OneDrive-Transformativ,LLC/TrendCards/Velera/GoogleGemini2_5_Pro\"\n",
    "extension = \".md\"\n",
    "file_list = get_file_list(file_path, extension)"
   ],
   "id": "80746101e883ac50",
   "outputs": [],
   "execution_count": 4
  },
  {
   "metadata": {
    "ExecuteTime": {
     "end_time": "2025-10-23T20:06:19.542270Z",
     "start_time": "2025-10-23T20:05:44.768387Z"
    }
   },
   "cell_type": "code",
   "source": [
    "i = 1\n",
    "for file in file_list:\n",
    "    text = read_file(file)\n",
    "    trend_card = await editor.edit_trend_card(text)\n",
    "    saved_file_name = trend_card.sa(file_path = f\"../outputs/{editor.config[\"model\"].replace(':', '_')}\",\n",
    "                                    suffix = \"v2\")\n",
    "    print(f\"{i}. {saved_file_name}\")\n",
    "    i += 1"
   ],
   "id": "4dca4377ef166255",
   "outputs": [
    {
     "ename": "AttributeError",
     "evalue": "'TrendCard' object has no attribute 'sa'",
     "output_type": "error",
     "traceback": [
      "\u001B[31m---------------------------------------------------------------------------\u001B[39m",
      "\u001B[31mAttributeError\u001B[39m                            Traceback (most recent call last)",
      "\u001B[36mCell\u001B[39m\u001B[36m \u001B[39m\u001B[32mIn[5]\u001B[39m\u001B[32m, line 5\u001B[39m\n\u001B[32m      3\u001B[39m text = read_file(file)\n\u001B[32m      4\u001B[39m trend_card = \u001B[38;5;28;01mawait\u001B[39;00m editor.edit_trend_card(text)\n\u001B[32m----> \u001B[39m\u001B[32m5\u001B[39m saved_file_name = \u001B[43mtrend_card\u001B[49m\u001B[43m.\u001B[49m\u001B[43msa\u001B[49m(file_path = \u001B[33mf\u001B[39m\u001B[33m\"\u001B[39m\u001B[33m../outputs/\u001B[39m\u001B[38;5;132;01m{\u001B[39;00meditor.config[\u001B[33m\"\u001B[39m\u001B[33mmodel\u001B[39m\u001B[33m\"\u001B[39m].replace(\u001B[33m'\u001B[39m\u001B[33m:\u001B[39m\u001B[33m'\u001B[39m,\u001B[38;5;250m \u001B[39m\u001B[33m'\u001B[39m\u001B[33m_\u001B[39m\u001B[33m'\u001B[39m)\u001B[38;5;132;01m}\u001B[39;00m\u001B[33m\"\u001B[39m,\n\u001B[32m      6\u001B[39m                                 suffix = \u001B[33m\"\u001B[39m\u001B[33mv2\u001B[39m\u001B[33m\"\u001B[39m)\n\u001B[32m      7\u001B[39m \u001B[38;5;28mprint\u001B[39m(\u001B[33mf\u001B[39m\u001B[33m\"\u001B[39m\u001B[38;5;132;01m{\u001B[39;00mi\u001B[38;5;132;01m}\u001B[39;00m\u001B[33m. \u001B[39m\u001B[38;5;132;01m{\u001B[39;00msaved_file_name\u001B[38;5;132;01m}\u001B[39;00m\u001B[33m\"\u001B[39m)\n\u001B[32m      8\u001B[39m i += \u001B[32m1\u001B[39m\n",
      "\u001B[36mFile \u001B[39m\u001B[32m~/Library/CloudStorage/OneDrive-Transformativ,LLC/CommercialPythonProjects/TrendCardAgent/.venv/lib/python3.13/site-packages/pydantic/main.py:1026\u001B[39m, in \u001B[36mBaseModel.__getattr__\u001B[39m\u001B[34m(self, item)\u001B[39m\n\u001B[32m   1023\u001B[39m     \u001B[38;5;28;01mreturn\u001B[39;00m \u001B[38;5;28msuper\u001B[39m().\u001B[34m__getattribute__\u001B[39m(item)  \u001B[38;5;66;03m# Raises AttributeError if appropriate\u001B[39;00m\n\u001B[32m   1024\u001B[39m \u001B[38;5;28;01melse\u001B[39;00m:\n\u001B[32m   1025\u001B[39m     \u001B[38;5;66;03m# this is the current error\u001B[39;00m\n\u001B[32m-> \u001B[39m\u001B[32m1026\u001B[39m     \u001B[38;5;28;01mraise\u001B[39;00m \u001B[38;5;167;01mAttributeError\u001B[39;00m(\u001B[33mf\u001B[39m\u001B[33m'\u001B[39m\u001B[38;5;132;01m{\u001B[39;00m\u001B[38;5;28mtype\u001B[39m(\u001B[38;5;28mself\u001B[39m).\u001B[34m__name__\u001B[39m\u001B[38;5;132;01m!r}\u001B[39;00m\u001B[33m object has no attribute \u001B[39m\u001B[38;5;132;01m{\u001B[39;00mitem\u001B[38;5;132;01m!r}\u001B[39;00m\u001B[33m'\u001B[39m)\n",
      "\u001B[31mAttributeError\u001B[39m: 'TrendCard' object has no attribute 'sa'"
     ]
    }
   ],
   "execution_count": 5
  },
  {
   "metadata": {},
   "cell_type": "code",
   "source": "",
   "id": "9443adaa148e751a",
   "outputs": [],
   "execution_count": null
  }
 ],
 "metadata": {
  "kernelspec": {
   "display_name": "Python 3",
   "language": "python",
   "name": "python3"
  },
  "language_info": {
   "codemirror_mode": {
    "name": "ipython",
    "version": 2
   },
   "file_extension": ".py",
   "mimetype": "text/x-python",
   "name": "python",
   "nbconvert_exporter": "python",
   "pygments_lexer": "ipython2",
   "version": "2.7.6"
  }
 },
 "nbformat": 4,
 "nbformat_minor": 5
}
