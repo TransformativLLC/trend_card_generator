{
 "cells": [
  {
   "metadata": {
    "ExecuteTime": {
     "end_time": "2025-10-23T20:31:26.738650Z",
     "start_time": "2025-10-23T20:31:26.670568Z"
    }
   },
   "cell_type": "code",
   "source": [
    "%load_ext autoreload\n",
    "%autoreload 2"
   ],
   "id": "e16f4d6146f3365f",
   "outputs": [],
   "execution_count": 1
  },
  {
   "metadata": {
    "ExecuteTime": {
     "end_time": "2025-10-23T20:31:32.079989Z",
     "start_time": "2025-10-23T20:31:28.207646Z"
    }
   },
   "cell_type": "code",
   "source": [
    "from src.utils.environment import set_up_env\n",
    "set_up_env()\n",
    "\n",
    "from src.agents import TrendCardEditor\n",
    "from src.utils.fileio import get_file_list, read_file"
   ],
   "id": "c9646484391973ab",
   "outputs": [],
   "execution_count": 2
  },
  {
   "metadata": {
    "ExecuteTime": {
     "end_time": "2025-10-23T20:31:33.228591Z",
     "start_time": "2025-10-23T20:31:32.807687Z"
    }
   },
   "cell_type": "code",
   "source": "editor = TrendCardEditor()",
   "id": "a6aa71cc0b55259a",
   "outputs": [],
   "execution_count": 3
  },
  {
   "metadata": {
    "ExecuteTime": {
     "end_time": "2025-10-23T21:55:27.371693Z",
     "start_time": "2025-10-23T21:55:27.239982Z"
    }
   },
   "cell_type": "code",
   "source": [
    "file_path = \"/Users/markbills/Library/CloudStorage/OneDrive-Transformativ,LLC/TrendCards/Velera/AnthropicClaudeSonnet4_5\"\n",
    "extension = \".md\"\n",
    "file_list = get_file_list(file_path, extension)"
   ],
   "id": "80746101e883ac50",
   "outputs": [],
   "execution_count": 4
  },
  {
   "metadata": {
    "ExecuteTime": {
     "end_time": "2025-10-23T22:07:14.064977Z",
     "start_time": "2025-10-23T21:55:30.612437Z"
    }
   },
   "cell_type": "code",
   "source": [
    "i = 1\n",
    "for file in file_list:\n",
    "    text = read_file(file)\n",
    "    trend_card = await editor.edit_trend_card(text)\n",
    "    saved_file_name = trend_card.save_to_file(file_path = f\"../outputs/{editor.config[\"model\"].replace(':', '_')}\", file_name_suffix = \"v2\")\n",
    "    print(f\"{i}. {saved_file_name}\")\n",
    "    i += 1"
   ],
   "id": "4dca4377ef166255",
   "outputs": [
    {
     "name": "stdout",
     "output_type": "stream",
     "text": [
      "1. rise_of_digital_nomads_social_v2.md\n",
      "2. offline_mesh_payments_for_outage_resilience_environmental_v2.md\n",
      "3. brain_computer_interface_technical_v2.md\n",
      "4. aging_population_social_v2.md\n",
      "5. open_banking_legal_v2.md\n",
      "6. robotics_technical_v2.md\n",
      "7. smaller_households_social_v2.md\n",
      "8. super_apps_big_tech_finance_economic_v2.md\n",
      "9. community_resilience_currencies_economic_v2.md\n",
      "10. autonomous_machine_to_machine_escrow_legal_v2.md\n",
      "11. quantum_computing_technical_v2.md\n",
      "12. data_privacy_legal_v2.md\n",
      "13. biometrics_technical_v2.md\n",
      "14. satellite_backed_settlement_rails_technical_v2.md\n",
      "15. social_media_influence_social_v2.md\n",
      "16. immersive_ubiquitous_interfaces_technical_v2.md\n",
      "17. self_healing_materials_technical_v2.md\n",
      "18. agentic_wallets_for_autonomous_commerce_technical_v2.md\n",
      "19. gen_z_in_the_workforce_social_v2.md\n",
      "20. green_finance_environmental_v2.md\n",
      "21. digital_afterlife_asset_transfer_legal_v2.md\n",
      "22. digital_twins_technical_v2.md\n",
      "23. delegated_consent_ai_guardianship_for_finance_legal_v2.md\n",
      "24. internet_of_things_technical_v2.md\n",
      "25. parametric_climate_relief_disbursements_environmental_v2.md\n",
      "26. emotion_ai_technical_v2.md\n",
      "27. commercialization_of_space_economic_v2.md\n",
      "28. ai_regulation_legal_v2.md\n",
      "29. cybersecurity_quantum_resistant_security_technical_v2.md\n",
      "30. member_owned_data_cooperatives_data_unions_economic_v2.md\n",
      "31. ar_vr_technical_v2.md\n",
      "32. digital_dollar_economic_v2.md\n",
      "33. gig_economy_economic_v2.md\n",
      "34. drones_technical_v2.md\n",
      "35. distributed_ledger_tech_technical_v2.md\n",
      "36. hyper_personalization_technical_v2.md\n",
      "37. renewable_energy_environmental_v2.md\n",
      "38. 5_generations_in_the_workforce_social_v2.md\n",
      "39. climate_migration_environmental_v2.md\n",
      "40. reputation_attested_credit_scoring_legal_v2.md\n",
      "41. 3d_printing_and_additive_manufacturing_technical_v2.md\n",
      "42. deep_fakes_legal_v2.md\n"
     ]
    }
   ],
   "execution_count": 5
  },
  {
   "metadata": {},
   "cell_type": "code",
   "source": "",
   "id": "9443adaa148e751a",
   "outputs": [],
   "execution_count": null
  }
 ],
 "metadata": {
  "kernelspec": {
   "display_name": "Python 3",
   "language": "python",
   "name": "python3"
  },
  "language_info": {
   "codemirror_mode": {
    "name": "ipython",
    "version": 2
   },
   "file_extension": ".py",
   "mimetype": "text/x-python",
   "name": "python",
   "nbconvert_exporter": "python",
   "pygments_lexer": "ipython2",
   "version": "2.7.6"
  }
 },
 "nbformat": 4,
 "nbformat_minor": 5
}
