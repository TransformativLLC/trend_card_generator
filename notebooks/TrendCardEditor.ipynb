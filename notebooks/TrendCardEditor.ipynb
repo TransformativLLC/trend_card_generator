{
 "cells": [
  {
   "metadata": {
    "ExecuteTime": {
     "end_time": "2025-10-24T16:45:00.196510Z",
     "start_time": "2025-10-24T16:45:00.134999Z"
    }
   },
   "cell_type": "code",
   "source": [
    "%load_ext autoreload\n",
    "%autoreload 2"
   ],
   "id": "e16f4d6146f3365f",
   "outputs": [],
   "execution_count": 1
  },
  {
   "metadata": {
    "ExecuteTime": {
     "end_time": "2025-10-24T16:45:05.208360Z",
     "start_time": "2025-10-24T16:45:01.628945Z"
    }
   },
   "cell_type": "code",
   "source": [
    "from src.utils.environment import set_up_env\n",
    "set_up_env()\n",
    "\n",
    "from src.agents import TrendCardEditor\n",
    "from src.utils.fileio import get_file_list"
   ],
   "id": "c9646484391973ab",
   "outputs": [],
   "execution_count": 2
  },
  {
   "metadata": {
    "ExecuteTime": {
     "end_time": "2025-10-24T16:48:22.259683Z",
     "start_time": "2025-10-24T16:48:22.043690Z"
    }
   },
   "cell_type": "code",
   "source": "editor = TrendCardEditor()",
   "id": "1e68d4599a6b2a8b",
   "outputs": [],
   "execution_count": 4
  },
  {
   "metadata": {
    "ExecuteTime": {
     "end_time": "2025-10-24T16:48:27.453208Z",
     "start_time": "2025-10-24T16:48:27.434495Z"
    }
   },
   "cell_type": "code",
   "source": [
    "file_path = \"../outputs/openai_gpt_4_1\"\n",
    "extension = \".md\"\n",
    "file_list = get_file_list(file_path, extension, exclude_names_with=\"v2\")"
   ],
   "id": "a533a3c2a3a3406e",
   "outputs": [],
   "execution_count": 5
  },
  {
   "metadata": {
    "ExecuteTime": {
     "end_time": "2025-10-24T16:49:11.959117Z",
     "start_time": "2025-10-24T16:48:34.411063Z"
    }
   },
   "cell_type": "code",
   "source": "await editor.edit_batch(file_list, file_path, \"v2\", verbose=True)",
   "id": "276727673e143471",
   "outputs": [
    {
     "name": "stdout",
     "output_type": "stream",
     "text": [
      "Editing 3 files in \"../outputs/openai_gpt_4_1\"...\n",
      "1: robotics_technical_v2.md\n",
      "{'card_identifier': 2, 'title': 10, 'description': 38, 'implications': 37, 'opportunities': 38, 'challenges': 38}\n",
      "\n",
      "2: 3d_printing_and_additive_manufacturing_technical_v2.md\n",
      "{'card_identifier': 6, 'title': 9, 'description': 37, 'implications': 34, 'opportunities': 36, 'challenges': 35}\n",
      "\n",
      "3: deep_fakes_legal_v2.md\n",
      "{'card_identifier': 3, 'title': 9, 'description': 35, 'implications': 38, 'opportunities': 38, 'challenges': 38}\n",
      "\n"
     ]
    }
   ],
   "execution_count": 6
  },
  {
   "metadata": {},
   "cell_type": "code",
   "source": "",
   "id": "e51e47eb1c7fbace",
   "outputs": [],
   "execution_count": null
  }
 ],
 "metadata": {
  "kernelspec": {
   "display_name": "Python 3",
   "language": "python",
   "name": "python3"
  },
  "language_info": {
   "codemirror_mode": {
    "name": "ipython",
    "version": 2
   },
   "file_extension": ".py",
   "mimetype": "text/x-python",
   "name": "python",
   "nbconvert_exporter": "python",
   "pygments_lexer": "ipython2",
   "version": "2.7.6"
  }
 },
 "nbformat": 4,
 "nbformat_minor": 5
}
