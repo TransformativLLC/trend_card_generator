{
 "cells": [
  {
   "metadata": {
    "ExecuteTime": {
     "end_time": "2025-10-24T01:21:14.996802Z",
     "start_time": "2025-10-24T01:21:14.949489Z"
    }
   },
   "cell_type": "code",
   "source": [
    "%load_ext autoreload\n",
    "%autoreload 2"
   ],
   "id": "e16f4d6146f3365f",
   "outputs": [],
   "execution_count": 1
  },
  {
   "metadata": {
    "ExecuteTime": {
     "end_time": "2025-10-24T01:21:19.349143Z",
     "start_time": "2025-10-24T01:21:15.979793Z"
    }
   },
   "cell_type": "code",
   "source": [
    "from src.utils.environment import set_up_env\n",
    "set_up_env()\n",
    "\n",
    "from src.agents import TrendCardEditor\n",
    "from src.utils.fileio import get_file_list, read_file, get_directory_safe_model_name"
   ],
   "id": "c9646484391973ab",
   "outputs": [],
   "execution_count": 2
  },
  {
   "metadata": {
    "ExecuteTime": {
     "end_time": "2025-10-24T01:22:36.097741Z",
     "start_time": "2025-10-24T01:22:36.000004Z"
    }
   },
   "cell_type": "code",
   "source": "editor = TrendCardEditor(section_word_limit=20)",
   "id": "a6aa71cc0b55259a",
   "outputs": [],
   "execution_count": 6
  },
  {
   "metadata": {
    "ExecuteTime": {
     "end_time": "2025-10-24T01:22:37.525281Z",
     "start_time": "2025-10-24T01:22:37.508231Z"
    }
   },
   "cell_type": "code",
   "source": [
    "file_path = \"../outputs/openai_gpt_4_1\"\n",
    "extension = \".md\"\n",
    "file_list = get_file_list(file_path, extension)\n",
    "file_list = [file for file in file_list if not \"v2\" in file]"
   ],
   "id": "80746101e883ac50",
   "outputs": [],
   "execution_count": 7
  },
  {
   "metadata": {
    "ExecuteTime": {
     "end_time": "2025-10-24T01:23:05.053999Z",
     "start_time": "2025-10-24T01:22:38.477402Z"
    }
   },
   "cell_type": "code",
   "source": [
    "i = 1\n",
    "safe_model_name = get_directory_safe_model_name(editor.config[\"model\"])\n",
    "for file in file_list:\n",
    "    text = read_file(file)\n",
    "    trend_card = await editor.edit_trend_card(text)\n",
    "    saved_file_name = trend_card.save_to_file(file_path=file_path, file_name_suffix=\"v2\")\n",
    "    print(f\"{i}. {saved_file_name}\")\n",
    "    print(trend_card.get_length(), end=\"\\n\"*2)\n",
    "    i += 1"
   ],
   "id": "4dca4377ef166255",
   "outputs": [
    {
     "name": "stdout",
     "output_type": "stream",
     "text": [
      "1. robotics_technical_v2.md\n",
      "{'card_identifier': 2, 'title': 10, 'description': 18, 'implications': 19, 'opportunities': 19, 'challenges': 19}\n",
      "\n",
      "2. 3d_printing_and_additive_manufacturing_technical_v2.md\n",
      "{'card_identifier': 6, 'title': 9, 'description': 18, 'implications': 17, 'opportunities': 18, 'challenges': 17}\n",
      "\n",
      "3. deep_fakes_legal_v2.md\n",
      "{'card_identifier': 3, 'title': 9, 'description': 18, 'implications': 19, 'opportunities': 19, 'challenges': 19}\n",
      "\n"
     ]
    }
   ],
   "execution_count": 8
  },
  {
   "metadata": {},
   "cell_type": "code",
   "source": "",
   "id": "d5ab26f864ba9cd5",
   "outputs": [],
   "execution_count": null
  }
 ],
 "metadata": {
  "kernelspec": {
   "display_name": "Python 3",
   "language": "python",
   "name": "python3"
  },
  "language_info": {
   "codemirror_mode": {
    "name": "ipython",
    "version": 2
   },
   "file_extension": ".py",
   "mimetype": "text/x-python",
   "name": "python",
   "nbconvert_exporter": "python",
   "pygments_lexer": "ipython2",
   "version": "2.7.6"
  }
 },
 "nbformat": 4,
 "nbformat_minor": 5
}
