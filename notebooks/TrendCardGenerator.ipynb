{
 "cells": [
  {
   "metadata": {},
   "cell_type": "code",
   "source": [
    "%load_ext autoreload\n",
    "%autoreload 2"
   ],
   "id": "e16f4d6146f3365f",
   "outputs": [],
   "execution_count": null
  },
  {
   "metadata": {},
   "cell_type": "code",
   "source": [
    "from src.utils.environment import set_up_env\n",
    "set_up_env()\n",
    "\n",
    "from src.agents import TrendCardAgent\n",
    "from src.models import AgentConfiguration"
   ],
   "id": "c9646484391973ab",
   "outputs": [],
   "execution_count": null
  },
  {
   "metadata": {},
   "cell_type": "code",
   "source": "agent = TrendCardAgent(settings=AgentConfiguration(model=\"gemini-2.5-pro\", temperature=0.8))",
   "id": "a6aa71cc0b55259a",
   "outputs": [],
   "execution_count": null
  },
  {
   "metadata": {},
   "cell_type": "code",
   "source": [
    "topic_map = {\n",
    "    \"Deep Fakes\": \"Legal\",\n",
    "    \"Robotics\": \"Technical\",\n",
    "    \"3D Printing and Additive Manufacturing\": \"Technical\",\n",
    "    \"AR/VR\": \"Technical\",\n",
    "    \"Digital Twins\": \"Technical\",\n",
    "    \"Biometrics\": \"Technical\",\n",
    "    \"Quantum Computing\": \"Technical\",\n",
    "    \"Self-Healing Materials\": \"Technical\",\n",
    "    \"Smaller Households\": \"Social\",\n",
    "    \"Aging population\": \"Social\",\n",
    "    \"Gen Z in the workforce\": \"Social\",\n",
    "    \"5 generations in the workforce\": \"Social\",\n",
    "    \"Social Media Influence\": \"Social\",\n",
    "    \"Brain-Computer Interface\": \"Technical\",\n",
    "    \"Digital Dollar\": \"Economic\",\n",
    "    \"Gig Economy\": \"Economic\",\n",
    "    \"Distributed Ledger Tech\": \"Technical\",\n",
    "    \"Drones\": \"Technical\",\n",
    "    \"Renewable Energy\": \"Environmental\",\n",
    "    \"Climate Migration\": \"Environmental\",\n",
    "    \"Commercialization of Outer Space\": \"Economic\",\n",
    "    \"Rise of Digital Nomads\": \"Social\",\n",
    "    \"Emotional AI\": \"Technical\",\n",
    "    \"Cybersecurity/Quantum-Resistant Security\": \"Technical\",\n",
    "    \"AI Regulation\": \"Legal\",\n",
    "    \"Super Apps/Big Tech Finance\": \"Economic\",\n",
    "    \"Open Banking\": \"Legal\",\n",
    "    \"Data Privacy\": \"Legal\",\n",
    "    \"Internet of Things\": \"Technical\",\n",
    "    \"Hyper-Personalization\": \"Technical\",\n",
    "    \"Immersive & Ubiquitous Interfaces\": \"Technical\",\n",
    "    \"Green Finance\": \"Environmental\",\n",
    "    \"Agentic wallets for autonomous commerce\": \"Technical\",\n",
    "    \"Member-owned data cooperatives (data unions)\": \"Economic\",\n",
    "    \"Reputation-attested credit scoring\": \"Legal\",\n",
    "    \"Offline mesh payments for outage resilience\": \"Environmental\",\n",
    "    \"Parametric climate relief disbursements\": \"Environmental\",\n",
    "    \"Delegated consent & AI guardianship for finance\": \"Legal\",\n",
    "    \"Autonomous machine-to-machine escrow\": \"Legal\",\n",
    "    \"Community resilience currencies\": \"Economic\",\n",
    "    \"Satellite-backed settlement rails\": \"Technical\",\n",
    "    \"Digital-afterlife asset transfer\": \"Legal\",\n",
    "}"
   ],
   "id": "feee204b042103dc",
   "outputs": [],
   "execution_count": null
  },
  {
   "metadata": {},
   "cell_type": "code",
   "source": [
    "target_dir = f\"../outputs/{agent.get_directory_safe_model_name()}/credit_unions\"\n",
    "keys = list(topic_map.keys())\n",
    "subset = {k: topic_map[k] for k in keys[0:1]}\n",
    "await agent.generate_batch(\"Payment platforms and other solutions for credit unions\", subset, target_dir, verbose=True)"
   ],
   "id": "1d3bcbb5fd84447e",
   "outputs": [],
   "execution_count": null
  },
  {
   "metadata": {},
   "cell_type": "code",
   "source": "",
   "id": "350902a25d8cc9de",
   "outputs": [],
   "execution_count": null
  }
 ],
 "metadata": {
  "kernelspec": {
   "display_name": "Python 3",
   "language": "python",
   "name": "python3"
  },
  "language_info": {
   "codemirror_mode": {
    "name": "ipython",
    "version": 2
   },
   "file_extension": ".py",
   "mimetype": "text/x-python",
   "name": "python",
   "nbconvert_exporter": "python",
   "pygments_lexer": "ipython2",
   "version": "2.7.6"
  }
 },
 "nbformat": 4,
 "nbformat_minor": 5
}
