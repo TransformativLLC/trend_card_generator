{
 "cells": [
  {
   "metadata": {},
   "cell_type": "code",
   "source": [
    "%load_ext autoreload\n",
    "%autoreload 2"
   ],
   "id": "e16f4d6146f3365f",
   "outputs": [],
   "execution_count": null
  },
  {
   "metadata": {},
   "cell_type": "code",
   "source": [
    "from src.utils.environment import set_up_env\n",
    "set_up_env()\n",
    "\n",
    "from src.models import TrendCardInput\n",
    "from src.agents import TrendCardAgent"
   ],
   "id": "c9646484391973ab",
   "outputs": [],
   "execution_count": null
  },
  {
   "metadata": {},
   "cell_type": "code",
   "source": "agent = TrendCardAgent()",
   "id": "a6aa71cc0b55259a",
   "outputs": [],
   "execution_count": null
  },
  {
   "metadata": {},
   "cell_type": "code",
   "source": [
    "topic_map = {\n",
    "    \"Deep Fakes\": \"Legal\",\n",
    "    \"Robotics\": \"Technical\",\n",
    "    \"3D Printing and Additive Manufacturing\": \"Technical\",\n",
    "    \"AR/VR\": \"Technical\",\n",
    "    \"Digital Twins\": \"Technical\",\n",
    "    \"Biometrics\": \"Technical\",\n",
    "    \"Quantum Computing\": \"Technical\",\n",
    "    \"Self-Healing Materials\": \"Technical\",\n",
    "    \"Smaller Households\": \"Social\",\n",
    "    \"Aging population\": \"Social\",\n",
    "    \"Gen Z in the workforce\": \"Social\",\n",
    "    \"5 generations in the workforce\": \"Social\",\n",
    "    \"Social Media Influence\": \"Social\",\n",
    "    \"Brain-Computer Interface\": \"Technical\",\n",
    "    \"Digital Dollar\": \"Economic\",\n",
    "    \"Gig Economy\": \"Economic\",\n",
    "    \"Distributed Ledger Tech\": \"Technical\",\n",
    "    \"Drones\": \"Technical\",\n",
    "    \"Renewable Energy\": \"Environmental\",\n",
    "    \"Climate Migration\": \"Environmental\",\n",
    "    \"Commercialization of Outer Space\": \"Economic\",\n",
    "    \"Rise of Digital Nomads\": \"Social\",\n",
    "    \"Emotional AI\": \"Technical\",\n",
    "    \"Cybersecurity/Quantum-Resistant Security\": \"Technical\",\n",
    "    \"AI Regulation\": \"Legal\",\n",
    "    \"Super Apps/Big Tech Finance\": \"Economic\",\n",
    "    \"Open Banking\": \"Legal\",\n",
    "    \"Data Privacy\": \"Legal\",\n",
    "    \"Internet of Things\": \"Technical\",\n",
    "    \"Hyper-Personalization\": \"Technical\",\n",
    "    \"Immersive & Ubiquitous Interfaces\": \"Technical\",\n",
    "    \"Green Finance\": \"Environmental\",\n",
    "    \"Agentic wallets for autonomous commerce\": \"Technical\",\n",
    "    \"Member-owned data cooperatives (data unions)\": \"Economic\",\n",
    "    \"Reputation-attested credit scoring\": \"Legal\",\n",
    "    \"Offline mesh payments for outage resilience\": \"Environmental\",\n",
    "    \"Parametric climate relief disbursements\": \"Environmental\",\n",
    "    \"Delegated consent & AI guardianship for finance\": \"Legal\",\n",
    "    \"Autonomous machine-to-machine escrow\": \"Legal\",\n",
    "    \"Community resilience currencies\": \"Economic\",\n",
    "    \"Satellite-backed settlement rails\": \"Technical\",\n",
    "    \"Digital-afterlife asset transfer\": \"Legal\",\n",
    "}"
   ],
   "id": "feee204b042103dc",
   "outputs": [],
   "execution_count": null
  },
  {
   "metadata": {},
   "cell_type": "code",
   "source": [
    "i = 1\n",
    "target_dir = f\"../outputs/{agent.get_directory_safe_model_name()}\"\n",
    "for topic, component in topic_map.items():\n",
    "    inputs = TrendCardInput(\n",
    "        industry_segment=\"Payment platforms and other solutions for credit unions\",\n",
    "        topic=topic,\n",
    "        component=component\n",
    "    )\n",
    "\n",
    "    trend_card = await agent.generate_trend_card(inputs)\n",
    "    trend_card.save_to_file(file_path=target_dir)\n",
    "\n",
    "    print(f\"{i}: {trend_card.card_identifier}\")\n",
    "    print(trend_card.get_length(), end=\"\\n\"*2)\n",
    "    i += 1\n",
    "    if i > 3: break"
   ],
   "id": "d5691de1986b4b1b",
   "outputs": [],
   "execution_count": null
  },
  {
   "metadata": {},
   "cell_type": "code",
   "source": "",
   "id": "9443adaa148e751a",
   "outputs": [],
   "execution_count": null
  }
 ],
 "metadata": {
  "kernelspec": {
   "display_name": "Python 3",
   "language": "python",
   "name": "python3"
  },
  "language_info": {
   "codemirror_mode": {
    "name": "ipython",
    "version": 2
   },
   "file_extension": ".py",
   "mimetype": "text/x-python",
   "name": "python",
   "nbconvert_exporter": "python",
   "pygments_lexer": "ipython2",
   "version": "2.7.6"
  }
 },
 "nbformat": 4,
 "nbformat_minor": 5
}
