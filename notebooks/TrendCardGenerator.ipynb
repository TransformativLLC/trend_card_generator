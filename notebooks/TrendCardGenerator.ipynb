{
 "cells": [
  {
   "metadata": {
    "ExecuteTime": {
     "end_time": "2025-10-17T23:12:26.997863Z",
     "start_time": "2025-10-17T23:12:26.946176Z"
    }
   },
   "cell_type": "code",
   "source": [
    "%load_ext autoreload\n",
    "%autoreload 2"
   ],
   "id": "e16f4d6146f3365f",
   "outputs": [],
   "execution_count": 1
  },
  {
   "cell_type": "code",
   "id": "initial_id",
   "metadata": {
    "ExecuteTime": {
     "end_time": "2025-10-17T23:12:28.389621Z",
     "start_time": "2025-10-17T23:12:28.354532Z"
    }
   },
   "source": [
    "from src.utils.environment import set_up_env\n",
    "set_up_env()"
   ],
   "outputs": [],
   "execution_count": 2
  },
  {
   "metadata": {
    "ExecuteTime": {
     "end_time": "2025-10-17T23:12:39.114929Z",
     "start_time": "2025-10-17T23:12:38.592494Z"
    }
   },
   "cell_type": "code",
   "source": [
    "from src.models import TrendCardInput\n",
    "from src.agents import TrendCardAgent\n",
    "from src.utils.fileio import save_as_md_file"
   ],
   "id": "c9646484391973ab",
   "outputs": [],
   "execution_count": 3
  },
  {
   "metadata": {
    "ExecuteTime": {
     "end_time": "2025-10-17T23:31:51.684330Z",
     "start_time": "2025-10-17T23:31:51.661052Z"
    }
   },
   "cell_type": "code",
   "source": "agent = TrendCardAgent()",
   "id": "a6aa71cc0b55259a",
   "outputs": [],
   "execution_count": 11
  },
  {
   "metadata": {
    "ExecuteTime": {
     "end_time": "2025-10-17T23:12:40.074475Z",
     "start_time": "2025-10-17T23:12:40.055863Z"
    }
   },
   "cell_type": "code",
   "outputs": [],
   "execution_count": 4,
   "source": [
    "topic_map = {\n",
    "    \"Deep Fakes\": \"Legal\",\n",
    "    \"Robotics\": \"Technical\",\n",
    "    \"3D Printing and Additive Manufacturing\": \"Technical\",\n",
    "    \"AR/VR\": \"Technical\",\n",
    "    \"Digital Twins\": \"Technical\",\n",
    "    \"Biometrics\": \"Technical\",\n",
    "    \"Quantum Computing\": \"Technical\",\n",
    "    \"Self-Healing Materials\": \"Technical\",\n",
    "    \"Smaller Households\": \"Social\",\n",
    "    \"Aging population\": \"Social\",\n",
    "    \"Gen Z in the workforce\": \"Social\",\n",
    "    \"5 generations in the workforce\": \"Social\",\n",
    "    \"Social Media Influence\": \"Social\",\n",
    "    \"Brain-Computer Interface\": \"Technical\",\n",
    "    \"Digital Dollar\": \"Economic\",\n",
    "    \"Gig Economy\": \"Economic\",\n",
    "    \"Distributed Ledger Tech\": \"Technical\",\n",
    "    \"Drones\": \"Technical\",\n",
    "    \"Renewable Energy\": \"Environmental\",\n",
    "    \"Climate Migration\": \"Environmental\",\n",
    "    \"Commercialization of Outer Space\": \"Economic\",\n",
    "    \"Rise of Digital Nomads\": \"Social\",\n",
    "    \"Emotional AI\": \"Technical\",\n",
    "    \"Cybersecurity/Quantum-Resistant Security\": \"Technical\",\n",
    "    \"AI Regulation\": \"Legal\",\n",
    "    \"Super Apps/Big Tech Finance\": \"Economic\",\n",
    "    \"Open Banking\": \"Legal\",\n",
    "    \"Data Privacy\": \"Legal\",\n",
    "    \"Internet of Things\": \"Technical\",\n",
    "    \"Hyper-Personalization\": \"Technical\",\n",
    "    \"Immersive & Ubiquitous Interfaces\": \"Technical\",\n",
    "    \"Green Finance\": \"Environmental\",\n",
    "}"
   ],
   "id": "feee204b042103dc"
  },
  {
   "metadata": {
    "ExecuteTime": {
     "end_time": "2025-10-17T23:35:02.911149Z",
     "start_time": "2025-10-17T23:35:02.860908Z"
    }
   },
   "cell_type": "code",
   "source": [
    "additional_topics = {\n",
    "    \"Agentic wallets for autonomous commerce\": \"Technical\",\n",
    "    \"Member-owned data cooperatives (data unions)\": \"Economic\",\n",
    "    \"Reputation-attested credit scoring\": \"Legal\",\n",
    "    \"Offline mesh payments for outage resilience\": \"Environmental\",\n",
    "    \"Parametric climate relief disbursements\": \"Environmental\",\n",
    "    \"Delegated consent & AI guardianship for finance\": \"Legal\",\n",
    "    \"Autonomous machine-to-machine escrow\": \"Legal\",\n",
    "    \"Community resilience currencies\": \"Economic\",\n",
    "    \"Satellite-backed settlement rails\": \"Technical\",\n",
    "    \"Digital-afterlife asset transfer\": \"Legal\",\n",
    "}"
   ],
   "id": "cff57463a66dd0c4",
   "outputs": [],
   "execution_count": 13
  },
  {
   "metadata": {
    "ExecuteTime": {
     "end_time": "2025-10-17T23:38:18.857615Z",
     "start_time": "2025-10-17T23:35:08.760333Z"
    }
   },
   "cell_type": "code",
   "source": [
    "i = 1\n",
    "for topic, component in additional_topics.items():\n",
    "    inputs = TrendCardInput(\n",
    "        industry_segment=\"Payment platforms and other solutions for credit unions\",\n",
    "        topic=topic,\n",
    "        component=component\n",
    "    )\n",
    "\n",
    "    trend_card = await agent.generate_trend_card(inputs)\n",
    "    save_as_md_file(trend_card)\n",
    "\n",
    "    print(f\"{i}: {topic} - {component}\")\n",
    "    i += 1"
   ],
   "id": "d5691de1986b4b1b",
   "outputs": [
    {
     "name": "stdout",
     "output_type": "stream",
     "text": [
      "1: Agentic wallets for autonomous commerce - Technical\n",
      "2: Member-owned data cooperatives (data unions) - Economic\n",
      "3: Reputation-attested credit scoring - Legal\n",
      "4: Offline mesh payments for outage resilience - Environmental\n",
      "5: Parametric climate relief disbursements - Environmental\n",
      "6: Delegated consent & AI guardianship for finance - Legal\n",
      "7: Autonomous machine-to-machine escrow - Legal\n",
      "8: Community resilience currencies - Economic\n",
      "9: Satellite-backed settlement rails - Technical\n",
      "10: Digital-afterlife asset transfer - Legal\n"
     ]
    }
   ],
   "execution_count": 14
  },
  {
   "metadata": {},
   "cell_type": "code",
   "source": "",
   "id": "9443adaa148e751a",
   "outputs": [],
   "execution_count": null
  }
 ],
 "metadata": {
  "kernelspec": {
   "display_name": "Python 3",
   "language": "python",
   "name": "python3"
  },
  "language_info": {
   "codemirror_mode": {
    "name": "ipython",
    "version": 2
   },
   "file_extension": ".py",
   "mimetype": "text/x-python",
   "name": "python",
   "nbconvert_exporter": "python",
   "pygments_lexer": "ipython2",
   "version": "2.7.6"
  }
 },
 "nbformat": 4,
 "nbformat_minor": 5
}
