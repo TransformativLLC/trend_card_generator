{
 "cells": [
  {
   "metadata": {
    "ExecuteTime": {
     "end_time": "2025-10-18T16:52:40.419777Z",
     "start_time": "2025-10-18T16:52:40.367261Z"
    }
   },
   "cell_type": "code",
   "source": [
    "%load_ext autoreload\n",
    "%autoreload 2"
   ],
   "id": "e16f4d6146f3365f",
   "outputs": [],
   "execution_count": 1
  },
  {
   "cell_type": "code",
   "id": "initial_id",
   "metadata": {
    "ExecuteTime": {
     "end_time": "2025-10-18T16:52:41.467160Z",
     "start_time": "2025-10-18T16:52:41.432499Z"
    }
   },
   "source": [
    "from src.utils.environment import set_up_env\n",
    "set_up_env()"
   ],
   "outputs": [],
   "execution_count": 2
  },
  {
   "metadata": {
    "ExecuteTime": {
     "end_time": "2025-10-18T16:52:44.710372Z",
     "start_time": "2025-10-18T16:52:42.334889Z"
    }
   },
   "cell_type": "code",
   "source": [
    "from src.models import TrendCardInput\n",
    "from src.agents import TrendCardAgent\n",
    "from src.utils.fileio import save_as_md_file"
   ],
   "id": "c9646484391973ab",
   "outputs": [],
   "execution_count": 3
  },
  {
   "metadata": {
    "ExecuteTime": {
     "end_time": "2025-10-18T16:52:45.639653Z",
     "start_time": "2025-10-18T16:52:45.485744Z"
    }
   },
   "cell_type": "code",
   "source": "agent = TrendCardAgent()",
   "id": "a6aa71cc0b55259a",
   "outputs": [],
   "execution_count": 4
  },
  {
   "metadata": {
    "ExecuteTime": {
     "end_time": "2025-10-18T16:52:46.391102Z",
     "start_time": "2025-10-18T16:52:46.361825Z"
    }
   },
   "cell_type": "code",
   "source": [
    "topic_map = {\n",
    "    \"Deep Fakes\": \"Legal\",\n",
    "    \"Robotics\": \"Technical\",\n",
    "    \"3D Printing and Additive Manufacturing\": \"Technical\",\n",
    "    \"AR/VR\": \"Technical\",\n",
    "    \"Digital Twins\": \"Technical\",\n",
    "    \"Biometrics\": \"Technical\",\n",
    "    \"Quantum Computing\": \"Technical\",\n",
    "    \"Self-Healing Materials\": \"Technical\",\n",
    "    \"Smaller Households\": \"Social\",\n",
    "    \"Aging population\": \"Social\",\n",
    "    \"Gen Z in the workforce\": \"Social\",\n",
    "    \"5 generations in the workforce\": \"Social\",\n",
    "    \"Social Media Influence\": \"Social\",\n",
    "    \"Brain-Computer Interface\": \"Technical\",\n",
    "    \"Digital Dollar\": \"Economic\",\n",
    "    \"Gig Economy\": \"Economic\",\n",
    "    \"Distributed Ledger Tech\": \"Technical\",\n",
    "    \"Drones\": \"Technical\",\n",
    "    \"Renewable Energy\": \"Environmental\",\n",
    "    \"Climate Migration\": \"Environmental\",\n",
    "    \"Commercialization of Outer Space\": \"Economic\",\n",
    "    \"Rise of Digital Nomads\": \"Social\",\n",
    "    \"Emotional AI\": \"Technical\",\n",
    "    \"Cybersecurity/Quantum-Resistant Security\": \"Technical\",\n",
    "    \"AI Regulation\": \"Legal\",\n",
    "    \"Super Apps/Big Tech Finance\": \"Economic\",\n",
    "    \"Open Banking\": \"Legal\",\n",
    "    \"Data Privacy\": \"Legal\",\n",
    "    \"Internet of Things\": \"Technical\",\n",
    "    \"Hyper-Personalization\": \"Technical\",\n",
    "    \"Immersive & Ubiquitous Interfaces\": \"Technical\",\n",
    "    \"Green Finance\": \"Environmental\",\n",
    "    \"Agentic wallets for autonomous commerce\": \"Technical\",\n",
    "    \"Member-owned data cooperatives (data unions)\": \"Economic\",\n",
    "    \"Reputation-attested credit scoring\": \"Legal\",\n",
    "    \"Offline mesh payments for outage resilience\": \"Environmental\",\n",
    "    \"Parametric climate relief disbursements\": \"Environmental\",\n",
    "    \"Delegated consent & AI guardianship for finance\": \"Legal\",\n",
    "    \"Autonomous machine-to-machine escrow\": \"Legal\",\n",
    "    \"Community resilience currencies\": \"Economic\",\n",
    "    \"Satellite-backed settlement rails\": \"Technical\",\n",
    "    \"Digital-afterlife asset transfer\": \"Legal\",\n",
    "}"
   ],
   "id": "feee204b042103dc",
   "outputs": [],
   "execution_count": 5
  },
  {
   "metadata": {
    "ExecuteTime": {
     "end_time": "2025-10-18T17:05:06.233340Z",
     "start_time": "2025-10-18T16:52:47.576334Z"
    }
   },
   "cell_type": "code",
   "source": [
    "i = 1\n",
    "for topic, component in topic_map.items():\n",
    "    inputs = TrendCardInput(\n",
    "        industry_segment=\"Payment platforms and other solutions for credit unions\",\n",
    "        topic=topic,\n",
    "        component=component\n",
    "    )\n",
    "\n",
    "    trend_card = await agent.generate_trend_card(inputs)\n",
    "    save_as_md_file(trend_card)\n",
    "\n",
    "    print(f\"{i}: {topic} - {component}\")\n",
    "    i += 1"
   ],
   "id": "d5691de1986b4b1b",
   "outputs": [
    {
     "name": "stdout",
     "output_type": "stream",
     "text": [
      "1: Deep Fakes - Legal\n",
      "2: Robotics - Technical\n",
      "3: 3D Printing and Additive Manufacturing - Technical\n",
      "4: AR/VR - Technical\n",
      "5: Digital Twins - Technical\n",
      "6: Biometrics - Technical\n",
      "7: Quantum Computing - Technical\n",
      "8: Self-Healing Materials - Technical\n",
      "9: Smaller Households - Social\n",
      "10: Aging population - Social\n",
      "11: Gen Z in the workforce - Social\n",
      "12: 5 generations in the workforce - Social\n",
      "13: Social Media Influence - Social\n",
      "14: Brain-Computer Interface - Technical\n",
      "15: Digital Dollar - Economic\n",
      "16: Gig Economy - Economic\n",
      "17: Distributed Ledger Tech - Technical\n",
      "18: Drones - Technical\n",
      "19: Renewable Energy - Environmental\n",
      "20: Climate Migration - Environmental\n",
      "21: Commercialization of Outer Space - Economic\n",
      "22: Rise of Digital Nomads - Social\n",
      "23: Emotional AI - Technical\n",
      "24: Cybersecurity/Quantum-Resistant Security - Technical\n",
      "25: AI Regulation - Legal\n",
      "26: Super Apps/Big Tech Finance - Economic\n",
      "27: Open Banking - Legal\n",
      "28: Data Privacy - Legal\n",
      "29: Internet of Things - Technical\n",
      "30: Hyper-Personalization - Technical\n",
      "31: Immersive & Ubiquitous Interfaces - Technical\n",
      "32: Green Finance - Environmental\n",
      "33: Agentic wallets for autonomous commerce - Technical\n",
      "34: Member-owned data cooperatives (data unions) - Economic\n",
      "35: Reputation-attested credit scoring - Legal\n",
      "36: Offline mesh payments for outage resilience - Environmental\n",
      "37: Parametric climate relief disbursements - Environmental\n",
      "38: Delegated consent & AI guardianship for finance - Legal\n",
      "39: Autonomous machine-to-machine escrow - Legal\n",
      "40: Community resilience currencies - Economic\n",
      "41: Satellite-backed settlement rails - Technical\n",
      "42: Digital-afterlife asset transfer - Legal\n"
     ]
    }
   ],
   "execution_count": 6
  },
  {
   "metadata": {},
   "cell_type": "code",
   "source": "",
   "id": "9443adaa148e751a",
   "outputs": [],
   "execution_count": null
  }
 ],
 "metadata": {
  "kernelspec": {
   "display_name": "Python 3",
   "language": "python",
   "name": "python3"
  },
  "language_info": {
   "codemirror_mode": {
    "name": "ipython",
    "version": 2
   },
   "file_extension": ".py",
   "mimetype": "text/x-python",
   "name": "python",
   "nbconvert_exporter": "python",
   "pygments_lexer": "ipython2",
   "version": "2.7.6"
  }
 },
 "nbformat": 4,
 "nbformat_minor": 5
}
